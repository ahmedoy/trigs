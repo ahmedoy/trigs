{
  "nbformat": 4,
  "nbformat_minor": 0,
  "metadata": {
    "colab": {
      "provenance": []
    },
    "kernelspec": {
      "name": "python3",
      "display_name": "Python 3"
    },
    "language_info": {
      "name": "python"
    }
  },
  "cells": [
    {
      "cell_type": "markdown",
      "source": [
        "# Clone Repo"
      ],
      "metadata": {
        "id": "mT4uYg1S0uAL"
      }
    },
    {
      "cell_type": "code",
      "execution_count": null,
      "metadata": {
        "colab": {
          "base_uri": "https://localhost:8080/"
        },
        "id": "kHRxeB-aw7Kh",
        "outputId": "3dd16124-c4ee-4343-fab1-52145291c5c6"
      },
      "outputs": [
        {
          "output_type": "stream",
          "name": "stdout",
          "text": [
            "Cloning into 'trigs'...\n",
            "remote: Enumerating objects: 53, done.\u001b[K\n",
            "remote: Counting objects: 100% (53/53), done.\u001b[K\n",
            "remote: Compressing objects: 100% (38/38), done.\u001b[K\n",
            "remote: Total 53 (delta 17), reused 42 (delta 11), pack-reused 0 (from 0)\u001b[K\n",
            "Receiving objects: 100% (53/53), 32.56 KiB | 3.62 MiB/s, done.\n",
            "Resolving deltas: 100% (17/17), done.\n"
          ]
        }
      ],
      "source": [
        "!git clone https://github.com/ahmedoy/trigs"
      ]
    },
    {
      "cell_type": "markdown",
      "source": [
        "# Download Data"
      ],
      "metadata": {
        "id": "j9YrndgD0wVy"
      }
    },
    {
      "cell_type": "code",
      "source": [
        "import gdown\n",
        "base_url = 'https://drive.google.com/uc?id='\n",
        "clean_train_cifar = base_url + '1VbctgwsMfMLFJwSLeVqykKnoBQ7Mvi_B'\n",
        "poison_train_cifar = base_url + '1vhhsUR6HPttYvLgTWN1_zE2RfI6BXvok'\n",
        "\n",
        "gdown.download(poison_train_cifar)\n",
        "gdown.download(clean_train_cifar)\n"
      ],
      "metadata": {
        "colab": {
          "base_uri": "https://localhost:8080/",
          "height": 224
        },
        "id": "2e_0z7xryQj8",
        "outputId": "5b0ff178-c15f-4402-9b72-8d3ad0f73d57"
      },
      "execution_count": null,
      "outputs": [
        {
          "output_type": "stream",
          "name": "stderr",
          "text": [
            "Downloading...\n",
            "From (original): https://drive.google.com/uc?id=1vhhsUR6HPttYvLgTWN1_zE2RfI6BXvok\n",
            "From (redirected): https://drive.google.com/uc?id=1vhhsUR6HPttYvLgTWN1_zE2RfI6BXvok&confirm=t&uuid=323be4a5-afa6-4d94-b048-8e1c473db9f2\n",
            "To: /content/poisoned_models_trainval.zip\n",
            "100%|██████████| 1.84G/1.84G [00:39<00:00, 47.2MB/s]\n",
            "Downloading...\n",
            "From (original): https://drive.google.com/uc?id=1VbctgwsMfMLFJwSLeVqykKnoBQ7Mvi_B\n",
            "From (redirected): https://drive.google.com/uc?id=1VbctgwsMfMLFJwSLeVqykKnoBQ7Mvi_B&confirm=t&uuid=c3940ad4-d268-422b-9eb1-ac15ffa7f1aa\n",
            "To: /content/clean_models_trainval.zip\n",
            "100%|██████████| 1.86G/1.86G [00:29<00:00, 63.4MB/s]\n"
          ]
        },
        {
          "output_type": "execute_result",
          "data": {
            "text/plain": [
              "'clean_models_trainval.zip'"
            ],
            "application/vnd.google.colaboratory.intrinsic+json": {
              "type": "string"
            }
          },
          "metadata": {},
          "execution_count": 2
        }
      ]
    },
    {
      "cell_type": "code",
      "source": [
        "!mkdir clean\n",
        "!mkdir poisoned\n",
        "!mv clean_models_trainval.zip clean\n",
        "!mv poisoned_models_trainval.zip poisoned\n",
        "!unzip -d /content/clean/ -q /content/clean/clean_models_trainval.zip\n",
        "!unzip -d /content/poisoned/ -q /content/poisoned/poisoned_models_trainval.zip"
      ],
      "metadata": {
        "id": "Ezu5nZcU0zGb"
      },
      "execution_count": null,
      "outputs": []
    },
    {
      "cell_type": "markdown",
      "source": [
        "# Setup Library Versions\n",
        "\n",
        "Not required so far. Colab's libraries seem to work by default."
      ],
      "metadata": {
        "id": "vEyd3g1c3fyj"
      }
    },
    {
      "cell_type": "markdown",
      "source": [
        "# Check Help Method in the code"
      ],
      "metadata": {
        "id": "8mKDMvTO3d8c"
      }
    },
    {
      "cell_type": "code",
      "source": [
        "!PYTHONPATH=/content/trigs python /content/trigs/trigs/generate_model_signature.py -h\n"
      ],
      "metadata": {
        "colab": {
          "base_uri": "https://localhost:8080/"
        },
        "id": "51Foqu9U38QN",
        "outputId": "50df4fb2-264c-4896-e5bf-52d304602bd4"
      },
      "execution_count": null,
      "outputs": [
        {
          "output_type": "stream",
          "name": "stdout",
          "text": [
            "usage: generate_model_signature.py [-h] --dataset_name DATASET_NAME [--model_name MODEL_NAME]\n",
            "                                   [--weights_path WEIGHTS_PATH] [--iterations ITERATIONS]\n",
            "                                   --learning_rate LEARNING_RATE --output_dir OUTPUT_DIR\n",
            "                                   [--opt_type {ADAM,SGD}] [--blur_freq BLUR_FREQ]\n",
            "                                   [--blur_sigma BLUR_SIGMA] [--blur_hks BLUR_HKS]\n",
            "                                   [--clipping_val CLIPPING_VAL] [--normalize_grad]\n",
            "                                   [--loss_type {logit,ce}] [--standardize_output]\n",
            "                                   [--clamp_pixels_freq CLAMP_PIXELS_FREQ] [--lambda_tv LAMBDA_TV]\n",
            "                                   [--batch_size BATCH_SIZE] [--debug]\n",
            "\n",
            "options:\n",
            "  -h, --help            show this help message and exit\n",
            "  --dataset_name DATASET_NAME\n",
            "                        Name of dataset used to train the probe models. Use Cifar10Ext for CIFAR10\n",
            "                        and TINExt for Tiny ImageNet\n",
            "  --model_name MODEL_NAME\n",
            "                        Name of the architecture for the probe model. Use vggmod with CIFAR10,\n",
            "                        resnet18_mod with Tiny ImageNet, and vit16b with ImageNet.\n",
            "  --weights_path WEIGHTS_PATH\n",
            "                        Path to model weights file.\n",
            "  --iterations ITERATIONS\n",
            "                        Number of optimization iterations. Use default to reproduce paper results.\n",
            "  --learning_rate LEARNING_RATE\n",
            "                        Learning rate. Use 10 with CIFAR10 and 0.1 with others to reproduce paper\n",
            "                        results.\n",
            "  --output_dir OUTPUT_DIR\n",
            "                        Path to store the resulting signature images.\n",
            "  --opt_type {ADAM,SGD}\n",
            "                        Optimizer to use. Use default to reproduce paper results.\n",
            "  --blur_freq BLUR_FREQ\n",
            "                        Frequency of applying Gaussian bluring. Use default to reproduce paper\n",
            "                        results.\n",
            "  --blur_sigma BLUR_SIGMA\n",
            "                        Sigma for the Gaussian blur. Use default to reproduce paper results.\n",
            "  --blur_hks BLUR_HKS   Half kernel width for the Gaussian blur. Use default to reproduce paper\n",
            "                        results.\n",
            "  --clipping_val CLIPPING_VAL\n",
            "                        Value beyond which to clip normalized gradient. 0 means no clipping. Use\n",
            "                        default to reproduce paper results.\n",
            "  --normalize_grad      If used, gradients will be normalized to a unit vector before every opt\n",
            "                        steps. Do NOT use to reproduce paper results.\n",
            "  --loss_type {logit,ce}\n",
            "                        Whether to optimize the logit value or the cross entropy loss. Use default\n",
            "                        to reproduce paper results.\n",
            "  --standardize_output  Convert each signature image to have 0.5 mean and 0.25 std. Use only with\n",
            "                        CIFAR10.\n",
            "  --clamp_pixels_freq CLAMP_PIXELS_FREQ\n",
            "                        Frequency of clamping pixel values to valid range. Use default to\n",
            "                        reproduce paper results.\n",
            "  --lambda_tv LAMBDA_TV\n",
            "                        Weight of the TV loss. Use 0.01 with Tiny ImageNet and 0.001 with others.\n",
            "  --batch_size BATCH_SIZE\n",
            "                        Number of signature images to create at the same time. Adjust based on\n",
            "                        your GPU memory for ImageNet and use default for others.\n",
            "  --debug               Debug mode. Do NOT use to reproduce paper results.\n"
          ]
        }
      ]
    },
    {
      "cell_type": "markdown",
      "source": [
        "# Get Clean and Poisoned Signatures\n",
        "\n",
        "\n",
        "Note that we have modified the original TRIGS repo to make this work\n",
        "\n"
      ],
      "metadata": {
        "id": "kL-65612CF_a"
      }
    },
    {
      "cell_type": "code",
      "source": [
        "!mkdir signatures_clean"
      ],
      "metadata": {
        "id": "fQW-n65m0KYV"
      },
      "execution_count": null,
      "outputs": []
    },
    {
      "cell_type": "code",
      "source": [
        "!PYTHONPATH=/content/trigs/ python /content/trigs/trigs/generate_model_signature.py \\\n",
        "  --dataset_name Cifar10Ext \\\n",
        "  --model_name vggmod \\\n",
        "  --weights_path /content/clean/clean_vggmod_CIFAR-10_0000.pt \\\n",
        "  --iterations 200 \\\n",
        "  --learning_rate 0.1 \\\n",
        "  --output_dir /content/signatures_clean \\\n",
        "  --opt_type ADAM \\\n",
        "  --lambda_tv 1e-3 \\\n",
        "  --batch_size 250"
      ],
      "metadata": {
        "colab": {
          "base_uri": "https://localhost:8080/"
        },
        "id": "41LbTBnQxMQi",
        "outputId": "9efb345f-529f-4a08-dd69-9ca79c94fd5a"
      },
      "execution_count": null,
      "outputs": [
        {
          "output_type": "stream",
          "name": "stdout",
          "text": [
            "100% 1/1 [01:29<00:00, 89.44s/it]\n",
            "SUCCESS!\n"
          ]
        }
      ]
    },
    {
      "cell_type": "code",
      "source": [
        "!mkdir signatures_poisoned"
      ],
      "metadata": {
        "id": "Um9l-4jZB7CC"
      },
      "execution_count": null,
      "outputs": []
    },
    {
      "cell_type": "code",
      "source": [
        "!PYTHONPATH=/content/trigs/ python /content/trigs/trigs/generate_model_signature.py \\\n",
        "  --dataset_name Cifar10Ext \\\n",
        "  --model_name vggmod \\\n",
        "  --weights_path /content/poisoned/poisoned_vggmod_CIFAR-10_0000.pt \\\n",
        "  --iterations 200 \\\n",
        "  --learning_rate 0.1 \\\n",
        "  --output_dir /content/signatures_poisoned \\\n",
        "  --opt_type ADAM \\\n",
        "  --lambda_tv 1e-3 \\\n",
        "  --batch_size 250"
      ],
      "metadata": {
        "colab": {
          "base_uri": "https://localhost:8080/"
        },
        "id": "wR6axSb3B7dZ",
        "outputId": "2478f318-e4bb-4ea6-99d9-e9f5db57095d"
      },
      "execution_count": null,
      "outputs": [
        {
          "output_type": "stream",
          "name": "stdout",
          "text": [
            "100% 1/1 [01:27<00:00, 87.40s/it]\n",
            "SUCCESS!\n"
          ]
        }
      ]
    }
  ]
}